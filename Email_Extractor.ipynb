{
  "nbformat": 4,
  "nbformat_minor": 0,
  "metadata": {
    "colab": {
      "provenance": [],
      "include_colab_link": true
    },
    "kernelspec": {
      "name": "python3",
      "display_name": "Python 3"
    },
    "language_info": {
      "name": "python"
    }
  },
  "cells": [
    {
      "cell_type": "markdown",
      "metadata": {
        "id": "view-in-github",
        "colab_type": "text"
      },
      "source": [
        "<a href=\"https://colab.research.google.com/github/chinweeee/Email_Extractor/blob/main/Email_Extractor.ipynb\" target=\"_parent\"><img src=\"https://colab.research.google.com/assets/colab-badge.svg\" alt=\"Open In Colab\"/></a>"
      ]
    },
    {
      "cell_type": "markdown",
      "source": [
        "Project: Write a program that scans a document and extracts all the email addresses. You can use rule-based matching to identify patterns that match the structure of an email address."
      ],
      "metadata": {
        "id": "BHSfSCncVurB"
      }
    },
    {
      "cell_type": "code",
      "source": [
        "import spacy\n",
        "from spacy.matcher import Matcher"
      ],
      "metadata": {
        "id": "xWlN4XNlVxPr"
      },
      "execution_count": 1,
      "outputs": []
    },
    {
      "cell_type": "code",
      "source": [
        "nlp = spacy.load('en_core_web_sm')\n",
        "email_matcher = Matcher(nlp.vocab)"
      ],
      "metadata": {
        "id": "rY_sNC9oXEi_"
      },
      "execution_count": 2,
      "outputs": []
    },
    {
      "cell_type": "code",
      "source": [
        "doc = nlp(\"Hello John, I hope this email finds you well. We're excited to announce that our new product will be launching next week. For more details, please reach out to our product manager at product.manager@example.com. Also, our marketing team is planning a promotional event. If you're interested in participating, please contact our event coordinator at events.coordinator@example.com. Lastly, if you have any general inquiries, feel free to reach out to our customer service at customer.service@example.com. Best, Jane Doe jane.doe@example.com\")"
      ],
      "metadata": {
        "id": "lOwd0I_LaCtu"
      },
      "execution_count": 3,
      "outputs": []
    },
    {
      "cell_type": "code",
      "source": [
        "pattern_1 = [{'LIKE_EMAIL': True}]\n",
        "\n",
        "email_matcher.add('Email Address', [pattern_1])\n",
        "find_matches = email_matcher(doc)\n",
        "print(find_matches)"
      ],
      "metadata": {
        "colab": {
          "base_uri": "https://localhost:8080/"
        },
        "id": "N8qKpTn_XS2h",
        "outputId": "f1f7e4de-5ac2-445b-aa1f-24f5111afd62"
      },
      "execution_count": 4,
      "outputs": [
        {
          "output_type": "stream",
          "name": "stdout",
          "text": [
            "[(17145694160672783604, 38, 39), (17145694160672783604, 64, 65), (17145694160672783604, 85, 86), (17145694160672783604, 91, 92)]\n"
          ]
        }
      ]
    },
    {
      "cell_type": "code",
      "source": [
        "for hash_id, start, end in find_matches:\n",
        "  string_id = nlp.vocab.strings[hash_id]\n",
        "  span = doc[start:end]\n",
        "  print(hash_id, string_id, start,end, span.text)"
      ],
      "metadata": {
        "colab": {
          "base_uri": "https://localhost:8080/"
        },
        "id": "b7CT2O3aYKr0",
        "outputId": "be1da19a-df53-40d3-8353-6d2799d42578"
      },
      "execution_count": 5,
      "outputs": [
        {
          "output_type": "stream",
          "name": "stdout",
          "text": [
            "17145694160672783604 Email Address 38 39 product.manager@example.com\n",
            "17145694160672783604 Email Address 64 65 events.coordinator@example.com\n",
            "17145694160672783604 Email Address 85 86 customer.service@example.com\n",
            "17145694160672783604 Email Address 91 92 jane.doe@example.com\n"
          ]
        }
      ]
    },
    {
      "cell_type": "markdown",
      "source": [
        "# ALTERNATIVELY"
      ],
      "metadata": {
        "id": "k44azz1tcECv"
      }
    },
    {
      "cell_type": "code",
      "source": [
        "import spacy\n",
        "from spacy.matcher import Matcher\n",
        "\n",
        "nlp = spacy.load('en_core_web_sm')\n",
        "email_matcher = Matcher(nlp.vocab)\n",
        "\n",
        "doc = nlp(\"Hello John, I hope this email finds you well. We're excited to announce that our new product will be launching next week. For more details, please reach out to our product manager at product.manager@example.com. Also, our marketing team is planning a promotional event. If you're interested in participating, please contact our event coordinator at events.coordinator@example.com. Lastly, if you have any general inquiries, feel free to reach out to our customer service at customer.service@example.com. Best, Jane Doe jane.doe@example.com\")\n",
        "\n",
        "pattern = [{\"TEXT\": {\"REGEX\": r\"[a-zA-Z0-9-_.]+@[a-zA-Z0-9-_.]+\"}}]\n",
        "\n",
        "email_matcher.add('Email Address', [pattern])\n",
        "find_matches = email_matcher(doc)\n",
        "print(find_matches)\n",
        "\n",
        "for hash_id, start, end in find_matches:\n",
        "  string_id = nlp.vocab.strings[hash_id]\n",
        "  span = doc[start:end]\n",
        "  print(hash_id, string_id, start,end, span.text)"
      ],
      "metadata": {
        "colab": {
          "base_uri": "https://localhost:8080/"
        },
        "id": "MJEdtwwpbTH4",
        "outputId": "50aba742-226f-4920-82f0-163d2e0c99df"
      },
      "execution_count": 6,
      "outputs": [
        {
          "output_type": "stream",
          "name": "stdout",
          "text": [
            "[(17145694160672783604, 38, 39), (17145694160672783604, 64, 65), (17145694160672783604, 85, 86), (17145694160672783604, 91, 92)]\n",
            "17145694160672783604 Email Address 38 39 product.manager@example.com\n",
            "17145694160672783604 Email Address 64 65 events.coordinator@example.com\n",
            "17145694160672783604 Email Address 85 86 customer.service@example.com\n",
            "17145694160672783604 Email Address 91 92 jane.doe@example.com\n"
          ]
        }
      ]
    },
    {
      "cell_type": "code",
      "source": [],
      "metadata": {
        "id": "f7u21re5bUpp"
      },
      "execution_count": 6,
      "outputs": []
    }
  ]
}